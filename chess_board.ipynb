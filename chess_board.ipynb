{
 "cells": [
  {
   "cell_type": "markdown",
   "metadata": {},
   "source": [
    "<!-- Define a ChessBoard class - should contain an 8x8 grid - Each cell in grid should have a color represented in RGB format. - black = (0,0,0) - white = (1,1,1) - blue = (0,1,1) - red = (1,.2,0)\n",
    "should have add_red method that accepts a row and column as input which colors corresponding cell.\n",
    "should have add_blue method that accepts a row and column as input which colors corresponding cell.\n",
    "should have render method that displays the chess board on screen with red and blue shown in correct locations\n",
    "should have is_under_attack method that return boolean if red is under attack by a blue piece horizontally, vertically or diagonally -->"
   ]
  },
  {
   "cell_type": "code",
   "execution_count": 64,
   "metadata": {},
   "outputs": [],
   "source": [
    "import numpy as np\n",
    "import matplotlib.pyplot as plt\n"
   ]
  },
  {
   "cell_type": "code",
   "execution_count": 85,
   "metadata": {},
   "outputs": [],
   "source": [
    "class ChessBoard():\n",
    "    def __init__(self):\n",
    "        self.board = np.ones((8,8,3))\n",
    "        self.create_board()\n",
    "        self.red_position = None\n",
    "        self.blue_position = None\n",
    "     \n",
    "    def create_board(self):\n",
    "        for i in np.ndindex(8,8,3):\n",
    "            row = i[0]\n",
    "            col = i[1]\n",
    "            if row%2 != col%2:\n",
    "                self.board[row, col] = (0,0,0)\n",
    "    def add_red(self,row, col):\n",
    "        self.board[row,col] = [1,.2,0]\n",
    "        self.red_position = [row,col]\n",
    "        \n",
    "    def add_blue(self,row,col):\n",
    "        self.board[row,col] = [0,1,1]\n",
    "        self.blue_position = [row,col]\n",
    "        \n",
    "    def render(self):\n",
    "        plt.imshow(self.board)\n",
    "        \n",
    "    def is_under_attack(self):\n",
    "        r_row = self.red_position[0] \n",
    "        b_row = self.blue_position[0]\n",
    "        r_col = self.red_position[1]\n",
    "        b_col = self.blue_position[1]\n",
    "        if r_row == b_row or r_col == b_col or b_col-b_row == r_col - r_row:\n",
    "            return True\n",
    "        else: \n",
    "            return False\n",
    "        "
   ]
  },
  {
   "cell_type": "code",
   "execution_count": 86,
   "metadata": {},
   "outputs": [
    {
     "data": {
      "text/plain": [
       "True"
      ]
     },
     "execution_count": 86,
     "metadata": {},
     "output_type": "execute_result"
    }
   ],
   "source": [
    "chess_time = ChessBoard()\n",
    "chess_time.add_red(4,3)\n",
    "chess_time.add_blue(3,2)\n",
    "chess_time.is_under_attack()"
   ]
  },
  {
   "cell_type": "code",
   "execution_count": 87,
   "metadata": {},
   "outputs": [
    {
     "data": {
      "image/png": "[encoded data removed]",
      "text/plain": [
       "<Figure size 432x288 with 1 Axes>"
      ]
     },
     "metadata": {
      "needs_background": "light"
     },
     "output_type": "display_data"
    }
   ],
   "source": [
    "chess_time.render()"
   ]
  },
  {
   "cell_type": "code",
   "execution_count": null,
   "metadata": {},
   "outputs": [],
   "source": []
  }
 ],
 "metadata": {
  "interpreter": {
   "hash": "da19e3f8ec60d437240137861cb080db03209a2e87bca3622604fc6bd2daa750"
  },
  "kernelspec": {
   "display_name": "Python 3 (ipykernel)",
   "language": "python",
   "name": "python3"
  },
  "language_info": {
   "codemirror_mode": {
    "name": "ipython",
    "version": 3
   },
   "file_extension": ".py",
   "mimetype": "text/x-python",
   "name": "python",
   "nbconvert_exporter": "python",
   "pygments_lexer": "ipython3",
   "version": "3.9.5"
  }
 },
 "nbformat": 4,
 "nbformat_minor": 4
}
